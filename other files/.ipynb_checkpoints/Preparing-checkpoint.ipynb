{
 "cells": [
  {
   "cell_type": "code",
   "execution_count": 1,
   "metadata": {},
   "outputs": [],
   "source": [
    "def preprocess_Airline(Airline) :\n",
    "    if Airline == 'Air Asia' : \n",
    "        return [0]\n",
    "    elif Airline == 'Air India' :\n",
    "        return [1]\n",
    "    elif Airline == 'GoAir' :\n",
    "        return [2]\n",
    "    elif Airline == 'IndiGo' :\n",
    "        return [3]\n",
    "    elif Airline == 'Jet Airways' :\n",
    "        return [4]\n",
    "    elif Airline == 'Jet Airways Business' :\n",
    "        return [5]\n",
    "    elif Airline == 'Multiple carriers' :\n",
    "        return [6]\n",
    "    elif Airline == 'Multiple carriers Premium economy' :\n",
    "        return [7]\n",
    "    elif Airline == 'SpiceJet' :\n",
    "        return [8]\n",
    "    elif Airline == 'Trujet' :\n",
    "        return [9]\n",
    "    elif Airline == 'Vistara' :\n",
    "        return [10]\n",
    "    elif Airline == 'Vistara Premium economy' :\n",
    "        return [11]\n",
    "    else :\n",
    "        return [\"Please enter suitable Airline option\"]"
   ]
  },
  {
   "cell_type": "code",
   "execution_count": 2,
   "metadata": {},
   "outputs": [],
   "source": [
    "# def get_Total_Stops(Total_Stops) :\n",
    "#     if Total_Stops == 'non-stop' : \n",
    "#         return [0]\n",
    "#     elif Total_Stops == '1 stop' :\n",
    "#         return [1]\n",
    "#     elif Total_Stops == '2 stops' :\n",
    "#         return [2]\n",
    "#     elif Total_Stops == '3 stops' :\n",
    "#         return [3]\n",
    "#     elif Total_Stops == '4 stops' :\n",
    "#         return [4]\n",
    "#     else :\n",
    "#         return ['Enter suitable Total_Stops value']"
   ]
  },
  {
   "cell_type": "code",
   "execution_count": 3,
   "metadata": {},
   "outputs": [],
   "source": [
    "def get_Destination(Destination) :\n",
    "    if Destination == 'Banglore' : \n",
    "        return [0]\n",
    "    elif Destination == 'Cochin' :\n",
    "        return [1]\n",
    "    elif Destination == 'Delhi' :\n",
    "        return [2]\n",
    "    elif Destination == 'Hyderabad' :\n",
    "        return [3]\n",
    "    elif Destination == 'Kolkata' :\n",
    "        return [4]\n",
    "    else :\n",
    "        return ['Enter suitable Destination Option']"
   ]
  },
  {
   "cell_type": "code",
   "execution_count": 4,
   "metadata": {},
   "outputs": [],
   "source": [
    "def get_Source(Source) :\n",
    "    if Source == 'Banglore' : \n",
    "        return [0]\n",
    "    elif Source == 'Chennai' :\n",
    "        return [1]\n",
    "    elif Source == 'Delhi' :\n",
    "        return [2]\n",
    "    elif Source == 'Kolkata' :\n",
    "        return [3]\n",
    "    elif Source == 'Mumbai' :\n",
    "        return [4]\n",
    "    else :\n",
    "        return ['Enter suitable Source Option']"
   ]
  },
  {
   "cell_type": "code",
   "execution_count": 5,
   "metadata": {},
   "outputs": [],
   "source": [
    "def get_Additional_Info(Additional_Info) :\n",
    "    if Additional_Info == '1 Long layover' : \n",
    "        return [0]\n",
    "    elif Additional_Info == '1 Short layover' :\n",
    "        return [1]\n",
    "    elif Additional_Info == '2 Long layover' :\n",
    "        return [2]\n",
    "    elif Additional_Info == 'Business class' :\n",
    "        return [3]\n",
    "    elif Additional_Info == 'Change airports' :\n",
    "        return [4]\n",
    "    elif Additional_Info == 'In-flight meal not included' :\n",
    "        return [5]\n",
    "    elif Additional_Info == 'No check-in baggage included' :\n",
    "        return [6]\n",
    "    elif Additional_Info == 'No info' :\n",
    "        return [7]\n",
    "    elif Additional_Info == 'Red-eye flight' :\n",
    "        return [8]\n",
    "    else :\n",
    "        return ['Please enter suitable Additional_Info option']"
   ]
  },
  {
   "cell_type": "code",
   "execution_count": 6,
   "metadata": {},
   "outputs": [],
   "source": [
    "def preprocess_data(data) :\n",
    "#     Day_of_Journey = data['Day_of_Journey']\n",
    "\n",
    "#     Month_of_Journey = data['Month_of_Journey']\n",
    "\n",
    "#     Dep_hr = data['Dep_hr']\n",
    "\n",
    "#     Dep_min=data['Dep_min']\n",
    "\n",
    "#     Arrival_hr=data['Arrival_hr']\n",
    "\n",
    "#     Arrival_min=data['Arrival_min']\n",
    "# Date \n",
    "#     date_dep = request.form[\"Dep_Time\"]\n",
    "#     Journey_day = int(pd.to_datetime(date_dep, format=\"%Y-%m-%dT%H:%M\").day)\n",
    "#     Journey_month = int(pd.to_datetime(date_dep, format =\"%Y-%m-%dT%H:%M\").month)\n",
    "#     duration_hr=data['duration_hr']\n",
    "    \n",
    "#     duration_min=data['duration_min']\n",
    " # Departure Time\n",
    "#     Dep_hour = int(pd.to_datetime(date_dep, format =\"%Y-%m-%dT%H:%M\").hour)\n",
    "#     Dep_min = int(pd.to_datetime(date_dep, format =\"%Y-%m-%dT%H:%M\").minute)\n",
    "\n",
    "# Arrival Time\n",
    "#     date_arr = request.form[\"Arrival_Time\"]\n",
    "#     Arrival_hour = int(pd.to_datetime(date_arr, format =\"%Y-%m-%dT%H:%M\").hour)\n",
    "#     Arrival_min = int(pd.to_datetime(date_arr, format =\"%Y-%m-%dT%H:%M\").minute)\n",
    "\n",
    "# Duration\n",
    "#     dur_hour = abs(Arrival_hour - Dep_hour)\n",
    "#     dur_min = abs(Arrival_min - Dep_min)\n",
    "\n",
    "\n",
    "    Airline = preprocess_Airline(data['Airline'])\n",
    "\n",
    "    #Total_Stops =get_Total_Stops(data['Total_Stops'])\n",
    "\n",
    "    Destination = get_Destination(data['Destination'])\n",
    "\n",
    "    Source= get_Source(data['Source'])\n",
    "\n",
    "    Additional_Info =  get_Additional_Info(data['Additional_Info'])\n",
    "\n",
    "    final_data = Airline+Destination+Source+Additional_Info\n",
    "    #final_data =  [Day_of_Journey, Month_of_Journey, Dep_hr,Dep_min,Arrival_hr,Arrival_min,duration_hr,duration_min]+ Airline + Total_Stops+Destination+Source+Additional_Info\n",
    "\n",
    "    return final_data"
   ]
  },
  {
   "cell_type": "code",
   "execution_count": 7,
   "metadata": {},
   "outputs": [],
   "source": [
    "# data = {'Day_of_Journey' :24 , 'Month_of_Journey' :3 , 'Dep_hr' : 22, \n",
    "#       'Dep_min' : 20,'Arrival_hr':1,'Arrival_min': 10,'duration_hr':2,'duration_min': 50,\n",
    "#         'Airline' : 'IndiGo','Total_Stops' : '4 stops','Destination' : 'Delhi','Source' : 'Banglore','Additional_Info' : 'No info'}\n",
    "        \n",
    "    "
   ]
  },
  {
   "cell_type": "code",
   "execution_count": 8,
   "metadata": {},
   "outputs": [],
   "source": [
    "data = {'Airline' : 'IndiGo','Destination' : 'Delhi','Source' : 'Banglore','Additional_Info' : 'No info'}\n",
    "        \n"
   ]
  },
  {
   "cell_type": "code",
   "execution_count": 9,
   "metadata": {},
   "outputs": [
    {
     "data": {
      "text/plain": [
       "[3, 2, 0, 7]"
      ]
     },
     "execution_count": 9,
     "metadata": {},
     "output_type": "execute_result"
    }
   ],
   "source": [
    "final_data= preprocess_data(data)\n",
    "final_data"
   ]
  },
  {
   "cell_type": "code",
   "execution_count": null,
   "metadata": {},
   "outputs": [],
   "source": []
  },
  {
   "cell_type": "code",
   "execution_count": null,
   "metadata": {},
   "outputs": [],
   "source": []
  },
  {
   "cell_type": "code",
   "execution_count": null,
   "metadata": {},
   "outputs": [],
   "source": []
  },
  {
   "cell_type": "code",
   "execution_count": null,
   "metadata": {},
   "outputs": [],
   "source": []
  }
 ],
 "metadata": {
  "kernelspec": {
   "display_name": "Python 3",
   "language": "python",
   "name": "python3"
  },
  "language_info": {
   "codemirror_mode": {
    "name": "ipython",
    "version": 3
   },
   "file_extension": ".py",
   "mimetype": "text/x-python",
   "name": "python",
   "nbconvert_exporter": "python",
   "pygments_lexer": "ipython3",
   "version": "3.7.6"
  }
 },
 "nbformat": 4,
 "nbformat_minor": 4
}
